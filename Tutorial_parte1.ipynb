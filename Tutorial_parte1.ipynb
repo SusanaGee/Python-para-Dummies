{
 "cells": [
  {
   "cell_type": "markdown",
   "metadata": {},
   "source": [
    "# **PYTHON para Dummies Paso a Paso: Básico -> Avanzado** 🐍"
   ]
  },
  {
   "cell_type": "markdown",
   "metadata": {},
   "source": [
    "Bienvenidos a este curso de Python! donde podrás aprender desde las bases fundamentales, hasta conceptos/aplicaciones avanzadas como machine learning, deep learning y mucho más. Todo esto con ejemplos simples y prácticos que te ayudarán a comprender mejor cada una de las lecciones.\n",
    "\n",
    "Esta primera parte del curso se dividirá inicialmente en 4 partes:\n",
    "\n",
    "1️⃣  Aquí se abodarán definiciones esenciales como: tipos de datos, operaciones con números, operadores lógicos, onversión de tis de datos y conceptos similares.\n",
    "\n",
    "2️⃣  Continuaremos con introducción a clase, objetos, atributos y métodos, así como las diferentes estructuras de datos junto con algunas de sus propiedades.\n",
    "\n",
    "3️⃣  Indexación y manipulación de estructuras de datos, donde principalmente se exploran temas como \"Acceder a la información\" y \"Modificar la información\" albergada en estructuras como: listas, tuplas y diccionarios.\n",
    "\n",
    "4️⃣  Estructuras de control"
   ]
  },
  {
   "cell_type": "markdown",
   "metadata": {},
   "source": [
    "# **Primeros pasos** 🤓"
   ]
  },
  {
   "cell_type": "markdown",
   "metadata": {},
   "source": [
    "## Fudamentos Básicos\n",
    "\n",
    "Antes de adentrarnos en el mundo de la programación en este lenguaje, es crucial conocer una definición formal y  con base en ella podremos dimensionar la cantidad de oportunidades que se nos abren al interactuar con él.\n",
    "\n",
    "## ¿Qué es Python?🐍\n",
    "\n",
    "Python es un lenguaje de programación potente y fácil de aprender. Tiene estructuras de datos de alto nivel eficientes y un simple pero efectivo sistema de programación orientado a objetos. La elegante sintaxis de Python y su tipado dinámico, junto a su naturaleza interpretada lo convierten en un lenguaje ideal para scripting y desarrollo rápido de aplicaciones en muchas áreas, para la mayoría de plataformas.\n",
    "\n",
    "### Variables y tipos de datos\n",
    "\n",
    "🌱 Las variables, bajo un contexto de programación (tal como se plantea aquí), se definene como un espacio en la memoria que se emplea para almacenar datos. En algunos lenguajes como Python, no es necesario confirmar el tipo de dato, ya que este lo inferirá de manera automática.\n",
    "\n",
    "#### **Tener en Cuenta**  👀\n",
    "\n",
    " Las variables deben ser nombradas con cuidado y con nombres alusivos, es por ello que se recomienda:\n",
    "\n",
    " 🌱 No deben de haber espacios en el nombre, en su lugar se puede usar _\n",
    " 🌱 Se deben emplear solo caracteres alfa-numéricos.\n",
    " 🌱 No deben de empezar por números. \n",
    " 🌱 Existe una clara distinción entre mayúsculas de las minúsculas.\n",
    " "
   ]
  },
  {
   "cell_type": "markdown",
   "metadata": {},
   "source": [
    "# Tipos de datos 🧮\n",
    "\n",
    "Python, en su estructura, reconoce diferentes tipos de datos cada uno de ellos con diferentes funciones y propósitos."
   ]
  },
  {
   "cell_type": "markdown",
   "metadata": {},
   "source": [
    "#### **Números enteros**🌕\n",
    "\n",
    "Conocidos en ingles como int/integer, pueden ser tanto positivos como negativos, pero su principal característica es que no cuentan con decimales y su longitud es ilimitada.\n",
    " \n"
   ]
  },
  {
   "cell_type": "code",
   "execution_count": 1,
   "metadata": {},
   "outputs": [
    {
     "data": {
      "text/plain": [
       "int"
      ]
     },
     "execution_count": 1,
     "metadata": {},
     "output_type": "execute_result"
    }
   ],
   "source": [
    "numero_entero= 14\n",
    "type(numero_entero)\n",
    "\n",
    "# Se emplea la línea de código type para conocer el tipo de dat o en su defecto conocer como \n",
    "#lo está interpretando la máquina.\n",
    "\n",
    "# 👀 Se debe destacar que, si un número se escribe con una serie de decimales todos \n",
    "# igual a cero dejará de considerarse un entero, por ejemplo 14.0 ya no corresponde a un int"
   ]
  },
  {
   "cell_type": "markdown",
   "metadata": {},
   "source": [
    "#### **Números decimales**🌗\n",
    "\n",
    "Conocido en ingles como floats (números flotantes),  a diferencia del tipo de dato anterios, este se caracteriza por ser tanto positivo como negativo y por albergar valores que tengan cifras decimales.\n"
   ]
  },
  {
   "cell_type": "code",
   "execution_count": 2,
   "metadata": {},
   "outputs": [
    {
     "data": {
      "text/plain": [
       "float"
      ]
     },
     "execution_count": 2,
     "metadata": {},
     "output_type": "execute_result"
    }
   ],
   "source": [
    "numero_float=33.001\n",
    "type(numero_float)"
   ]
  },
  {
   "cell_type": "markdown",
   "metadata": {},
   "source": [
    "#### Operaciones con números\n",
    "\n",
    "Python también puede ser empleado como una calculadoa de alta potencia, por lo que admite\n",
    "operaciones básicas tales como:\n",
    "\n",
    "🌱 Suma: +\n",
    "\n",
    "🌱 Resta: - \n",
    "\n",
    "🌱 Producto: *\n",
    "\n",
    "🌱 División: /\n"
   ]
  },
  {
   "cell_type": "code",
   "execution_count": 4,
   "metadata": {},
   "outputs": [
    {
     "name": "stdout",
     "output_type": "stream",
     "text": [
      "5 <class 'int'>\n",
      "5 <class 'int'>\n",
      "40 <class 'int'>\n",
      "44.0 <class 'float'>\n"
     ]
    }
   ],
   "source": [
    "# Ejemplos\n",
    "\n",
    "suma_int= 2+3\n",
    "resta_int= 10-5\n",
    "producto_int= 20*2\n",
    "division_int=88/2\n",
    "\n",
    "print(suma_int, type(suma_int)) \n",
    "print(resta_int, type(resta_int))\n",
    "print(producto_int, type(producto_int))\n",
    "print(division_int, type(division_int))\n",
    "\n",
    "    \n",
    "# Es de esperarse que el resultado sea un int, ya que las operaciones se hicieron \n",
    "# entre dos enteros.\n",
    "\n",
    "#En el único caso que no s se obtendrá un int despues de operar dos números enteros \n",
    "# será en una división, tal y como lo señalan los conceptos de aritmética."
   ]
  },
  {
   "cell_type": "code",
   "execution_count": 5,
   "metadata": {},
   "outputs": [
    {
     "name": "stdout",
     "output_type": "stream",
     "text": [
      "5.5 <class 'float'>\n",
      "5.1 <class 'float'>\n",
      "41.77968888 <class 'float'>\n",
      "31.428571535714287 <class 'float'>\n"
     ]
    }
   ],
   "source": [
    "# Ejemplos\n",
    "\n",
    "suma_float= 2.2+3.3\n",
    "resta_float= 10.7-5.6\n",
    "producto_float= 20.8888*2.0001\n",
    "division_float=88.0000003/2.8\n",
    "\n",
    "print(suma_float, type(suma_float)) \n",
    "print(resta_float, type(resta_float))\n",
    "print(producto_float, type(producto_float))\n",
    "print(division_float, type(division_float))\n",
    "\n",
    "#Es de esperarse que el resultado sea un float, ya que la operación se hizo entre dos\n",
    "# decimales\n",
    "# 👀 Recordar que float también se considera cuando el número obtenido es del tipo .0"
   ]
  },
  {
   "cell_type": "markdown",
   "metadata": {},
   "source": [
    "#### **Cadenas de texto**\n",
    "\n",
    "Conocidas en ingles como strings, es necesario escirbir estas cadenas dentro de comillas dobles o simples, de tal manera que la máquina lo interprete de manera adecuada."
   ]
  },
  {
   "cell_type": "code",
   "execution_count": null,
   "metadata": {},
   "outputs": [
    {
     "data": {
      "text/plain": [
       "str"
      ]
     },
     "execution_count": 6,
     "metadata": {},
     "output_type": "execute_result"
    }
   ],
   "source": [
    "string = \"Perro\"\n",
    "type(string)"
   ]
  },
  {
   "cell_type": "markdown",
   "metadata": {},
   "source": [
    "#### Operaciones con strings"
   ]
  },
  {
   "cell_type": "code",
   "execution_count": null,
   "metadata": {},
   "outputs": [
    {
     "name": "stdout",
     "output_type": "stream",
     "text": [
      "EmmaWatson\n"
     ]
    },
    {
     "data": {
      "text/plain": [
       "'Will Smith'"
      ]
     },
     "execution_count": 11,
     "metadata": {},
     "output_type": "execute_result"
    }
   ],
   "source": [
    "nombre = \"Emma\"\n",
    "apellido = \" Watson\" \n",
    "nombre_completo= nombre+apellido\n",
    "print(nombre_completo)\n",
    "\n",
    "# Para conseguir que quede un espacio entre los dos strings que se concatenaron,\n",
    "# existen diferentes aternativas, en este caso se aplicó un espacio antes de escribir\n",
    "# apellido\n",
    "\n",
    "#Otra alternativa\n",
    "nombre2 = \"Will\"\n",
    "apellido2 = \"Smith\" \n",
    "nombre_completo2=nombre2+\" \"+ apellido2\n",
    "nombre_completo2"
   ]
  },
  {
   "cell_type": "markdown",
   "metadata": {},
   "source": [
    "#### **Booleanos**\n",
    "\n",
    "Hace referecia a dos valores posibles: TRUE (verdadero) o FALSE (falso)"
   ]
  },
  {
   "cell_type": "code",
   "execution_count": 12,
   "metadata": {},
   "outputs": [
    {
     "data": {
      "text/plain": [
       "bool"
      ]
     },
     "execution_count": 12,
     "metadata": {},
     "output_type": "execute_result"
    }
   ],
   "source": [
    "es_actor = True\n",
    "type(es_actor)"
   ]
  },
  {
   "cell_type": "code",
   "execution_count": null,
   "metadata": {},
   "outputs": [
    {
     "name": "stdout",
     "output_type": "stream",
     "text": [
      "True\n",
      "False\n"
     ]
    }
   ],
   "source": [
    "# VERIFICAR si un dato es un tipo de valor específico\n",
    "\n",
    "print(isinstance(es_actor, bool))\n",
    "print(isinstance(numero_float, int)) #retorna un valor falso ya que este se trata de un decimal (float)\n"
   ]
  },
  {
   "cell_type": "markdown",
   "metadata": {},
   "source": [
    "#### **Operadores lógicos**\n",
    "\n",
    "Algunos de los más utilizados son:\n",
    "\n",
    "* (<), menor estrictamente que...\n",
    "\n",
    "* (<=), menor o igual que...\n",
    "\n",
    "* (>), mayor estrictamente que...\n",
    "\n",
    "* (>=), mayor o igual que...\n",
    "\n",
    "* (==), igual estrictamente que...\n",
    "\n",
    "* (!=), diferente que...\n"
   ]
  },
  {
   "cell_type": "code",
   "execution_count": 1,
   "metadata": {},
   "outputs": [
    {
     "name": "stdout",
     "output_type": "stream",
     "text": [
      "True\n",
      "True\n",
      "True\n",
      "True\n",
      "True\n",
      "False\n",
      "True\n"
     ]
    }
   ],
   "source": [
    "# Ejemplos\n",
    "\n",
    "print(3 > 2)\n",
    "print(3 >= 3)\n",
    "print(-8 < 0)\n",
    "print(-10 <=- 1)\n",
    "print(3 == 3)\n",
    "print(7 != 7)\n",
    "print(3!=1)"
   ]
  },
  {
   "cell_type": "markdown",
   "metadata": {},
   "source": [
    "#### **Operadores AND, OR, NOT**\n",
    "\n",
    "Son operadores que resultarán bastante últiles en las partes que siguen de este curso ya que funcionan de manera similar a las tablas de verdad.\n",
    "\n"
   ]
  },
  {
   "cell_type": "code",
   "execution_count": 3,
   "metadata": {},
   "outputs": [
    {
     "data": {
      "text/plain": [
       "True"
      ]
     },
     "execution_count": 3,
     "metadata": {},
     "output_type": "execute_result"
    }
   ],
   "source": [
    "# Ejemplo AND / &\n",
    "\n",
    "ingresos=400000\n",
    "estrato=3\n",
    "subsidio=(ingresos <= 400000 ) and (estrato < 4)\n",
    "subsidio"
   ]
  },
  {
   "cell_type": "code",
   "execution_count": 4,
   "metadata": {},
   "outputs": [
    {
     "data": {
      "text/plain": [
       "True"
      ]
     },
     "execution_count": 4,
     "metadata": {},
     "output_type": "execute_result"
    }
   ],
   "source": [
    "# Ejemplo OR \n",
    "\n",
    "ingresos=500000\n",
    "estrato=3\n",
    "subsidio=(ingresos <= 400000 ) or (estrato < 4)\n",
    "subsidio"
   ]
  },
  {
   "cell_type": "markdown",
   "metadata": {},
   "source": [
    "## Conversion de tipos de datos 📊\n",
    "\n",
    "A este procedimiento comunmente también se le conoce como \"forzar el tipo de dato\", pues a pesar de que para nosotros sea claro que tipo de dato es nuestra variable, el propósito será hacer que la máquina lo interprete como otro. A continuación se muestran una serie de ejemplos que ayudarán a similar un poco mejor esta idea.\n"
   ]
  },
  {
   "cell_type": "markdown",
   "metadata": {},
   "source": [
    "#### **Conversión de entero a float**"
   ]
  },
  {
   "cell_type": "code",
   "execution_count": 6,
   "metadata": {},
   "outputs": [
    {
     "name": "stdout",
     "output_type": "stream",
     "text": [
      "14 <class 'int'>\n",
      "14.0 <class 'float'>\n"
     ]
    }
   ],
   "source": [
    "entero_prueba=14\n",
    "print(entero_prueba, type(entero_prueba))\n",
    "float_prueba=float(entero_prueba)\n",
    "print(float_prueba, type(float_prueba))\n",
    "\n",
    "# En este caso no se forzó el tipo, pero si se convirtió un dato inicialmente\n",
    "# considerado como un entero a decimal, agregando un .0"
   ]
  },
  {
   "cell_type": "markdown",
   "metadata": {},
   "source": [
    "#### **Conversión de string a entero**\n",
    "👀 Se recomienda hacer esta conversión unicamente en casos donde el string sea un número\n",
    "\n"
   ]
  },
  {
   "cell_type": "code",
   "execution_count": 8,
   "metadata": {},
   "outputs": [
    {
     "name": "stdout",
     "output_type": "stream",
     "text": [
      "22 <class 'str'>\n",
      "22 <class 'int'>\n"
     ]
    }
   ],
   "source": [
    "str_prueba = \"22\"\n",
    "print(str_prueba, type(str_prueba))\n",
    "entero_2prueba = int(str_prueba)\n",
    "print(entero_2prueba, type(entero_2prueba))"
   ]
  },
  {
   "cell_type": "markdown",
   "metadata": {},
   "source": [
    "#### **Conversión de decimal (float) a string**"
   ]
  },
  {
   "cell_type": "code",
   "execution_count": 9,
   "metadata": {},
   "outputs": [
    {
     "name": "stdout",
     "output_type": "stream",
     "text": [
      "15.689 <class 'float'>\n",
      "15.689 <class 'str'>\n"
     ]
    }
   ],
   "source": [
    "float_2prueba = 15.689\n",
    "print(float_2prueba, type(float_2prueba))\n",
    "str_2prueba = str(float_2prueba)\n",
    "print(str_2prueba, type(str_2prueba))"
   ]
  },
  {
   "cell_type": "markdown",
   "metadata": {},
   "source": [
    "#### **Conversión de decimal (float) a entero (int)**"
   ]
  },
  {
   "cell_type": "code",
   "execution_count": 11,
   "metadata": {},
   "outputs": [
    {
     "name": "stdout",
     "output_type": "stream",
     "text": [
      "1000.68 <class 'float'>\n",
      "1000 <class 'int'>\n"
     ]
    }
   ],
   "source": [
    "saldo_cuenta=1000.68\n",
    "print(saldo_cuenta, type(saldo_cuenta))\n",
    "saldo_cuenta_red=int(saldo_cuenta)\n",
    "print(saldo_cuenta_red, type(saldo_cuenta_red))\n",
    "\n",
    "#👀 Con esta operación hay que tener cuidado, ya que python tiende a redondear las cifras \n",
    "# abajo, así el decimal se encuentre por enca de .5"
   ]
  },
  {
   "cell_type": "markdown",
   "metadata": {},
   "source": [
    "#### **Conversión de booleanos (bool)**"
   ]
  },
  {
   "cell_type": "code",
   "execution_count": 12,
   "metadata": {},
   "outputs": [
    {
     "name": "stdout",
     "output_type": "stream",
     "text": [
      "1\n",
      "1.0\n",
      "True\n",
      "0\n",
      "0.0\n",
      "False\n"
     ]
    }
   ],
   "source": [
    "dato_booleano=True\n",
    "print(int(dato_booleano))\n",
    "print(float(dato_booleano))\n",
    "print(str(dato_booleano))\n",
    "\n",
    "dato_2booleano=False\n",
    "print(int(dato_2booleano))\n",
    "print(float(dato_2booleano))\n",
    "print(str(dato_2booleano))\n",
    "\n",
    "#Los rsultado obtenidos para esta conversión se dan de manera binaria, es decir en 1 o 0"
   ]
  }
 ],
 "metadata": {
  "kernelspec": {
   "display_name": "Python 3",
   "language": "python",
   "name": "python3"
  },
  "language_info": {
   "codemirror_mode": {
    "name": "ipython",
    "version": 3
   },
   "file_extension": ".py",
   "mimetype": "text/x-python",
   "name": "python",
   "nbconvert_exporter": "python",
   "pygments_lexer": "ipython3",
   "version": "3.13.2"
  }
 },
 "nbformat": 4,
 "nbformat_minor": 2
}
