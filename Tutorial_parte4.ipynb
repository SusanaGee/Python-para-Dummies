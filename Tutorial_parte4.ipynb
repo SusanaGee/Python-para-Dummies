{
 "cells": [
  {
   "cell_type": "markdown",
   "metadata": {},
   "source": [
    "# **Parte 4**"
   ]
  },
  {
   "cell_type": "markdown",
   "metadata": {},
   "source": [
    "## Estructuras de control 📚"
   ]
  },
  {
   "cell_type": "markdown",
   "metadata": {},
   "source": [
    "Antes de comenzar es fundamental tener en cuenta que en python las ordenes son ejecutadas de manera secuencial, es decir de arriba hacia abajo, en caso de que una orden superior no se pueda ejecutar, las subsiguientes tampoco lo harán.\n",
    "\n",
    "Los ejemplos que se presentarán a continuación irán ascendiendo desde lo más simple y elemental hasta técnicas un poco más avanzadas"
   ]
  },
  {
   "cell_type": "markdown",
   "metadata": {},
   "source": [
    "### Zen de Python ☯️\n",
    "\n",
    "A continuación, y como bono extra, te entrego algunos de los pilares fundamentales del coding en Python🐍:\n",
    "\n",
    "- Las condiciones deben ser mutuamente excluyentes entre si.\n",
    "- Las condiciones deben ser exhaustivas si es necesario.\n",
    "- Las condiciones deberían organizarse de la más usual a la menos usual.\n",
    "- El \"else\" corresponde al descarte de todas las condiciones anteriores."
   ]
  },
  {
   "cell_type": "markdown",
   "metadata": {},
   "source": [
    "#### **Estructura If**"
   ]
  },
  {
   "cell_type": "code",
   "execution_count": null,
   "metadata": {},
   "outputs": [
    {
     "name": "stdout",
     "output_type": "stream",
     "text": [
      "Sigue intentando :(\n"
     ]
    }
   ],
   "source": [
    "nota = 4.0\n",
    "\n",
    "if nota > 4:\n",
    "    print(\"Se otorga beca!\")\n",
    "else:\n",
    "    print (\"No se otorga beca, sigue intentando :(\")\n",
    "\n",
    "# 👀 Las identaciones son fundamentales para conseguir el anidamiento y adecuada ejecución de \n",
    "# las estructuras.\n",
    "\n",
    "# 👀 La estructura else se emplea para oorgar una respuesta en caso de que la condición if \n",
    "# no se cumpla"
   ]
  },
  {
   "cell_type": "code",
   "execution_count": null,
   "metadata": {},
   "outputs": [
    {
     "name": "stdout",
     "output_type": "stream",
     "text": [
      "Se otorga beca!\n"
     ]
    }
   ],
   "source": [
    "nota = 4.5\n",
    "sisben = \"si\"\n",
    "\n",
    "if (nota > 4) and (sisben == \"si\"):\n",
    "    print(\"Se otorga beca!\") \n",
    "else:\n",
    "    print(\"No se otorga beca, sigue intentando :(\")\n",
    "\n",
    "# 👀 Las estructuras if pueden tener más de una condición para evaluar.\n",
    "# El operador AND indica que ambas condiciones deben de cumplirse, de lo contrario se tomará\n",
    "# como falso y se arrojará el valor del else."
   ]
  },
  {
   "cell_type": "code",
   "execution_count": null,
   "metadata": {},
   "outputs": [],
   "source": [
    "nota = 4.1\n",
    "sisben = \"no\"\n",
    "\n",
    "if (nota > 4) and (sisben == \"si\"):\n",
    "    print(\"Se otorga beca!\") \n",
    "else:\n",
    "    print(\"No se otorga beca, sigue intentando :(\")\n",
    "\n",
    "# En est caso no se otorga la beca porque solo se cumple una de las condiciones"
   ]
  },
  {
   "cell_type": "code",
   "execution_count": 5,
   "metadata": {},
   "outputs": [
    {
     "name": "stdout",
     "output_type": "stream",
     "text": [
      "Se otorga beca!\n"
     ]
    }
   ],
   "source": [
    "nota = 4.1\n",
    "sisben = \"no\"\n",
    "\n",
    "if (nota > 4) or (sisben == \"si\"):\n",
    "    print(\"Se otorga beca!\") \n",
    "else:\n",
    "    print(\"No se otorga beca, sigue intentando :(\")\n",
    "\n",
    "# En este caso como se trata de un operador or, existe la posiblidad de que solo cumpliéndose\n",
    "# una de las condiciones del if se otorgue el resultado.\n"
   ]
  },
  {
   "cell_type": "code",
   "execution_count": 6,
   "metadata": {},
   "outputs": [
    {
     "name": "stdout",
     "output_type": "stream",
     "text": [
      "Se otorga beca de excelencia académica!\n"
     ]
    }
   ],
   "source": [
    "nota = 4.9\n",
    "sisben = \"si\"\n",
    "monitor = \"no\"\n",
    "\n",
    "\n",
    "if (nota > 4.5) or (sisben == \"si\"):\n",
    "    print(\"Se otorga beca de excelencia académica!\") \n",
    "elif (nota > 4) & (sisben == \"si\"):\n",
    "    print(\"Se otorga beca convencional!\")\n",
    "elif (nota > 3.8) & (monitor == \"si\"):\n",
    "    print(\"Se otorga beca de monitorías!\")\n",
    "else:\n",
    "    print(\"No se otorga beca :(\")"
   ]
  },
  {
   "cell_type": "markdown",
   "metadata": {},
   "source": [
    "## Ciclos (loops, iteraciones o repeticiones) ♾"
   ]
  },
  {
   "cell_type": "markdown",
   "metadata": {},
   "source": [
    "Existen diferentes tipos de ciclos, los más comunes son el for y el while. No obstante, para uso de este curso solo emplearemos la estructura for por la simplicidad que representa, ya que el while si no se usa con cuidado podría generar un bucle infinto."
   ]
  },
  {
   "cell_type": "markdown",
   "metadata": {},
   "source": [
    "#### **For**\n",
    "\n",
    "Se recomienda usar la siguiente estructura para su uso:\n",
    "\n",
    "\n",
    "for <*variable_iteradora*> in <*iterable* (lista, tupla, conjunto, diccionario)>:\n",
    "     ordenes a repetir que usan o no la variable_iteradora"
   ]
  },
  {
   "cell_type": "code",
   "execution_count": null,
   "metadata": {},
   "outputs": [
    {
     "name": "stdout",
     "output_type": "stream",
     "text": [
      "2\n",
      "4\n",
      "6\n",
      "8\n"
     ]
    }
   ],
   "source": [
    "for i in [2, 4, 6, 8]:\n",
    "    print(i)\n",
    "\n",
    "# 📌 i es un nombre aleatorio que se usa para determinar los elementos dentro del iterable, \n",
    "# en caso de no querer emplear el nombre i o cualquier otro se recomienda usar el caracter\n",
    "# _ en su lugar"
   ]
  },
  {
   "cell_type": "code",
   "execution_count": 11,
   "metadata": {},
   "outputs": [
    {
     "name": "stdout",
     "output_type": "stream",
     "text": [
      "hello world! 🌎\n",
      "hello world! 🌎\n",
      "hello world! 🌎\n",
      "hello world! 🌎\n"
     ]
    }
   ],
   "source": [
    "for i in [3, 4, -1, 10]:\n",
    "    print(\"hello world! 🌎\")\n",
    "\n",
    "# 👀 la longitud del iterable determina la cantidad de veces que se repite el codigo, en este\n",
    "# caso el \"print\""
   ]
  },
  {
   "cell_type": "code",
   "execution_count": 12,
   "metadata": {},
   "outputs": [
    {
     "name": "stdout",
     "output_type": "stream",
     "text": [
      " Este es el número 0\n",
      " Este es el número 1\n",
      " Este es el número 2\n",
      " Este es el número 3\n",
      " Este es el número 4\n",
      " Este es el número 5\n",
      " Este es el número 6\n",
      " Este es el número 7\n",
      " Este es el número 8\n",
      " Este es el número 9\n"
     ]
    }
   ],
   "source": [
    "# 10 iteraciones, recordando la estructura Range:\n",
    "\n",
    "for numero in range(0, 10):\n",
    "    print(f\" Este es el número {numero}\")"
   ]
  },
  {
   "cell_type": "code",
   "execution_count": 14,
   "metadata": {},
   "outputs": [
    {
     "name": "stdout",
     "output_type": "stream",
     "text": [
      "Valor inicial: 0\n",
      "Valor actual: 1\n",
      "Valor actual: 2\n",
      "Valor actual: 3\n",
      "Valor actual: 4\n",
      "Valor actual: 5\n",
      "Valor actual: 6\n",
      "Valor actual: 7\n",
      "Valor actual: 8\n",
      "Valor actual: 9\n",
      "Valor actual: 10\n"
     ]
    }
   ],
   "source": [
    "# Otra manera de obtener el mismo resultado anterior puede ser:\n",
    "\n",
    "valor_inicial = 0\n",
    "print(f\"Valor inicial: {valor_inicial}\")\n",
    "for numero in range(0, 10):\n",
    "    valor_inicial = valor_inicial + 1 # valor_inicial += 1\n",
    "    print(f\"Valor actual: {valor_inicial}\")\n",
    "\n"
   ]
  },
  {
   "cell_type": "code",
   "execution_count": null,
   "metadata": {},
   "outputs": [
    {
     "name": "stdout",
     "output_type": "stream",
     "text": [
      "En la granja 🏡 hay un gallina\n",
      "En la granja 🏡 hay un toro\n",
      "En la granja 🏡 hay un pato\n"
     ]
    }
   ],
   "source": [
    "# También es posible iterar sobre un listao de strings\n",
    "\n",
    "listado_animales = [\"gallina\", \"toro\", \"pato\"]\n",
    "for animal in listado_animales:\n",
    "    print(f\"En la granja 🏡 hay un {animal}\")"
   ]
  },
  {
   "cell_type": "code",
   "execution_count": null,
   "metadata": {},
   "outputs": [
    {
     "name": "stdout",
     "output_type": "stream",
     "text": [
      "El nombre aurora tiene 6 letras\n",
      "El nombre gabriel tiene 7 letras\n",
      "El nombre anselmo tiene 7 letras\n"
     ]
    }
   ],
   "source": [
    "# Tal como hemos mencionado a lo largo de este tutorial, la mayoría de operaciones\n",
    "# que se realizan sobre listados también se pueden emular en tuplas, y las iteraciones\n",
    "# no son la excepción\n",
    "\n",
    "name_tuple = (\"aurora\", \"gabriel\", \"anselmo\")\n",
    "for name in name_tuple:\n",
    "    longitud_nombre = len(name)\n",
    "    print(f\"El nombre {name} tiene {longitud_nombre} letras\")"
   ]
  },
  {
   "cell_type": "code",
   "execution_count": 21,
   "metadata": {},
   "outputs": [
    {
     "name": "stdout",
     "output_type": "stream",
     "text": [
      "Una llave del diccionario es: nombre y continene el valor de '['Mariana', 'Sofia', 'Camilo']' \n",
      "Una llave del diccionario es: apellido y continene el valor de '['Correa', 'Duque', 'Aboleda']' \n",
      "Una llave del diccionario es: mes_cumpleaños y continene el valor de '['noviembre', 'febrero', 'agosto']' \n",
      "Una llave del diccionario es: universidad y continene el valor de 'EIA' \n",
      "Una llave del diccionario es: año_de_nacimiento y continene el valor de '[1999, 2000, 2001]' \n"
     ]
    }
   ],
   "source": [
    "# Iteraciones sobre diccionarios\n",
    "\n",
    "estudiantes= {\n",
    "    \"nombre\": [\"Mariana\",\"Sofia\", \"Camilo\"],\n",
    "    \"apellido\": [\"Correa\",\"Duque\", \"Aboleda\"],\n",
    "    \"mes_cumpleaños\": [\"noviembre\",\"febrero\", \"agosto\"],\n",
    "    \"universidad\": \"EIA\",\n",
    "    \"año_de_nacimiento\": [1999,2000,2001]\n",
    "}\n",
    "\n",
    "# iteramos sobre las llaves del diccionario\n",
    "for llave in estudiantes.keys():\n",
    "    print(f\"Una llave del diccionario es: {llave} y continene el valor de '{estudiantes[llave]}' \")"
   ]
  },
  {
   "cell_type": "code",
   "execution_count": null,
   "metadata": {},
   "outputs": [
    {
     "name": "stdout",
     "output_type": "stream",
     "text": [
      "El corredor L.Hamilton compite en la F1 con Ferrari \n",
      "El corredor M. Verstappen compite en la F1 con Red Bull\n",
      "El corredor L. Norris compite en la F1 con McLaren\n"
     ]
    }
   ],
   "source": [
    "# El uso de zip con tuplas/listas, permite iterar sobre dos o más listas al mismo tiempo\n",
    "\n",
    "corredor = (\"L.Hamilton\", \"M. Verstappen\", \"L. Norris\")\n",
    "escuderia = (\"Ferrari \", \"Red Bull\", \"McLaren\")\n",
    "\n",
    "\n",
    "for nombre, carro in zip(corredor, escuderia):\n",
    "    print(f\"El corredor {nombre} compite en la F1 con {carro}\")"
   ]
  },
  {
   "cell_type": "code",
   "execution_count": null,
   "metadata": {},
   "outputs": [
    {
     "name": "stdout",
     "output_type": "stream",
     "text": [
      "El corredor L.Hamilton terminó la carrera en el puesto: # 1\n",
      "El corredor M. Verstappen terminó la carrera en el puesto: # 2\n",
      "El corredor L. Norris terminó la carrera en el puesto: # 3\n"
     ]
    }
   ],
   "source": [
    "#El uso de enumerate, permite obtener un índice\n",
    "\n",
    "corredor = (\"L.Hamilton\", \"M. Verstappen\", \"L. Norris\")\n",
    "\n",
    "for i, nombre in enumerate(corredor, start=1):\n",
    "    print(f\"El corredor {nombre} terminó la carrera en el puesto: # {i}\")"
   ]
  },
  {
   "cell_type": "code",
   "execution_count": 27,
   "metadata": {},
   "outputs": [
    {
     "name": "stdout",
     "output_type": "stream",
     "text": [
      "['hola']\n",
      "['hola', 'estudiante']\n",
      "['hola', 'estudiante', 'de']\n",
      "['hola', 'estudiante', 'de', 'python']\n"
     ]
    }
   ],
   "source": [
    "# Otros usos del append y limpieza de palabras\n",
    "# Este ejemplo permite, agregar un item al final de la lista que vamos a llenar\n",
    "# 👀 se destaca que esta no es la fora más eficente \n",
    "\n",
    "palabras = [\"HolA\", \"estuDIANte\", \"DE\", \"pyTHoN\", ]\n",
    "palabras_clean = []\n",
    "for _ in palabras:\n",
    "    palabra_clean = _.lower()\n",
    "    \n",
    "    palabras_clean.append(palabra_clean)\n",
    "    print(palabras_clean)"
   ]
  },
  {
   "cell_type": "markdown",
   "metadata": {},
   "source": [
    "## List Comprehension 🧾\n",
    "\n",
    "Permite simplificar la estructura de los ciclos, haciéndolos mucho más rápidos y eficientes. Permite iterar listas, tuplas, conjuntos, diccionarios; así mismo aplicar una función o método a cada elemento"
   ]
  },
  {
   "cell_type": "code",
   "execution_count": null,
   "metadata": {},
   "outputs": [
    {
     "data": {
      "text/plain": [
       "['L.HAMILTON', 'M. VERSTAPPEN', 'L. NORRIS']"
      ]
     },
     "execution_count": 28,
     "metadata": {},
     "output_type": "execute_result"
    }
   ],
   "source": [
    "# Ejemplo\n",
    "\n",
    "corredor = (\"L.Hamilton\", \"M. Verstappen\", \"L. Norris\")\n",
    "CORREDOR = [persona.upper() for persona in corredor]\n",
    "CORREDOR"
   ]
  },
  {
   "cell_type": "code",
   "execution_count": 29,
   "metadata": {},
   "outputs": [
    {
     "data": {
      "text/plain": [
       "{'marca_1': 'Nissan', 'marca_2': 'Toyota', 'marca_3': 'Jeep'}"
      ]
     },
     "execution_count": 29,
     "metadata": {},
     "output_type": "execute_result"
    }
   ],
   "source": [
    "# Ejemplo\n",
    "\n",
    "dicc_carros = {\n",
    "    \"MArcA_1\": \"NIssAN\",\n",
    "    \"marcA_2\": \"tOyoTA\",\n",
    "    \"mArcA_3\": \"JEeP\"\n",
    "}\n",
    "\n",
    "# dicc_3_clean = {<key>: <value> for <key>, <value> in <diccionario>.items()}\n",
    "dicc_carros_clean = {key.lower(): value.capitalize() for key, value in dicc_carros.items()}\n",
    "dicc_carros_clean"
   ]
  },
  {
   "cell_type": "code",
   "execution_count": null,
   "metadata": {},
   "outputs": [
    {
     "data": {
      "text/plain": [
       "['clasifica en los primeros puestos',\n",
       " 'clasifica en los primeros puestos',\n",
       " 'clasifica en los primeros puestos',\n",
       " 'clasfica de últmo',\n",
       " 'clasfica de últmo',\n",
       " 'clasfica de últmo']"
      ]
     },
     "execution_count": 30,
     "metadata": {},
     "output_type": "execute_result"
    }
   ],
   "source": [
    "# Ejemplo\n",
    "\n",
    "puntajes = [18, 25, 15, 1, 2 ,4]\n",
    "\n",
    "# también se puede usar \"if\" y \"else\" en conjunto\n",
    "aprobados = [\"clasifica en los primeros puestos\" if puntaje >= 15 else \n",
    "             \"clasfica de último\" for puntaje in puntajes]\n",
    "aprobados"
   ]
  },
  {
   "cell_type": "code",
   "execution_count": null,
   "metadata": {},
   "outputs": [
    {
     "data": {
      "text/plain": [
       "[('hoy', 'text'),\n",
       " ('estoy', 'text'),\n",
       " ('en', 'text'),\n",
       " ('2025', 'numeric'),\n",
       " ('aprendiendo', 'text'),\n",
       " ('python,', 'text'),\n",
       " ('para', 'text'),\n",
       " ('mañana', 'text'),\n",
       " ('tener', 'text'),\n",
       " ('un', 'text'),\n",
       " ('mejor', 'text'),\n",
       " ('trabajo', 'text')]"
      ]
     },
     "execution_count": 32,
     "metadata": {},
     "output_type": "execute_result"
    }
   ],
   "source": [
    "# Ahora además de tokenizar buscaremos que nos retorne que tipo de dato es el fragmento\n",
    "# extraído\n",
    "\n",
    "frase = \"hoy estoy en 2025 aprendiendo python, para mañana tener un mejor trabajo\"\n",
    "tokens = frase.split(\" \")\n",
    "\n",
    "tokens_analizados = [(token, \"numeric\") if token.isnumeric() else (token, \"text\") for token in tokens]\n",
    "tokens_analizados"
   ]
  },
  {
   "cell_type": "markdown",
   "metadata": {},
   "source": [
    "## Funciones con múltiples argumentos de salida 📝\n",
    "\n",
    "Este tipo de funciones resultan de gran utilidad, pues en ocasiones esperamos que no sea un único valor de salida sino varios dependiendo del caso, con las siguientes líneas de código aprenderemos como hacerlo adecuadamente"
   ]
  },
  {
   "cell_type": "code",
   "execution_count": null,
   "metadata": {},
   "outputs": [],
   "source": [
    "# Ejemplo\n",
    "\n",
    "def varias_salidas(cantidades_esperadas:int) -> tuple[float, float]:\n",
    "    \"\"\"\n",
    "    Esta es una función básica para estimar costos de \n",
    "    producción y precios de venta. El usuario debe de \n",
    "    insertar las cantidades que espera vender en el mes.\n",
    "    El cálculo de el precio de venta se realizó con una\n",
    "    ganacia esperada del 45%\n",
    "    \"\"\"\n",
    "    \n",
    "    costo_unitario=2000\n",
    "    costos_producción = cantidades_esperadas * costo_unitario\n",
    "    costos_produccion_u=costos_producción/cantidades_esperadas\n",
    "    precio_venta = costos_produccion_u*(1+0.45)\n",
    "    print (f\"El costo total de producción es: ${costos_producción}, el costo unitario de producción es: ${costos_produccion_u} se sugiere un precio de venta de: ${precio_venta}\")\n",
    "\n"
   ]
  },
  {
   "cell_type": "code",
   "execution_count": 6,
   "metadata": {},
   "outputs": [
    {
     "name": "stdout",
     "output_type": "stream",
     "text": [
      "El costo total de producción es: $1000000, el costo unitario de producción es: $2000.0 se sugiere un precio de venta de: $2900.0\n"
     ]
    }
   ],
   "source": [
    "varias_salidas(cantidades_esperadas=500)\n"
   ]
  },
  {
   "cell_type": "markdown",
   "metadata": {},
   "source": [
    "## Funciones anónimas (lambda) 🥷🏼\n",
    "\n",
    "Este tipo de funciones resutan bastante útiles cuando queremos definir funciones pequeñas, concisas y reutilizables, ya que no requieren que definamos y refernciar una función con un nombre separada, reduciendo el código repetitivo.\n"
   ]
  },
  {
   "cell_type": "markdown",
   "metadata": {},
   "source": [
    "### Con un único argumento"
   ]
  },
  {
   "cell_type": "code",
   "execution_count": 7,
   "metadata": {},
   "outputs": [],
   "source": [
    "# En lugar de hacer esto:\n",
    "# def raiz_numero(numero):\n",
    "#     return sqrt(numero)\n",
    "\n",
    "import math\n",
    "\n",
    "raiz_numero=lambda numero:math.sqrt(numero)\n"
   ]
  },
  {
   "cell_type": "code",
   "execution_count": 8,
   "metadata": {},
   "outputs": [
    {
     "data": {
      "text/plain": [
       "5.0"
      ]
     },
     "execution_count": 8,
     "metadata": {},
     "output_type": "execute_result"
    }
   ],
   "source": [
    "raiz_numero(25)"
   ]
  },
  {
   "cell_type": "markdown",
   "metadata": {},
   "source": [
    "### Con un múltples argumentos"
   ]
  },
  {
   "cell_type": "code",
   "execution_count": 1,
   "metadata": {},
   "outputs": [],
   "source": [
    "# En otras ocasiones nos vemos en la necesidad de \n",
    "# crear funciones que reciban como input más de un \n",
    "# argumento. De manera comun se emplearia el siguiente\n",
    "# formato:\n",
    "\n",
    "#def dividir_numeros(numero_1, numero_2):\n",
    "#     return numero_1 / numero_2\n",
    "\n",
    "# Sin embargo para optimizar recursos se puede proceder así:\n",
    "\n",
    "multiplicar_numeros= lambda numero_1prueba, numero_2prueba: numero_1prueba * numero_2prueba"
   ]
  },
  {
   "cell_type": "code",
   "execution_count": 2,
   "metadata": {},
   "outputs": [
    {
     "data": {
      "text/plain": [
       "600"
      ]
     },
     "execution_count": 2,
     "metadata": {},
     "output_type": "execute_result"
    }
   ],
   "source": [
    "multiplicar_numeros(20,30)"
   ]
  },
  {
   "cell_type": "markdown",
   "metadata": {},
   "source": [
    "## Scope (visibilidad de variables) 🤓\n",
    "\n",
    "Para lograr comprender la utilidad de este recurso, es fundamental comprender que, por defencto las variables en python son locales, es decir que aquellas definidas y utilizadas en el bloque de código de una función, sólo existen dentro de la misma, y no generar interferencias con la ejecución del resto del código. Teniendo en cuenta lo anterior los **Scope** de variables en Python se refiere a un area o lugar donde estas pueden ser accedidasluego de ser declaradas.\n"
   ]
  },
  {
   "cell_type": "code",
   "execution_count": 3,
   "metadata": {},
   "outputs": [
    {
     "ename": "NameError",
     "evalue": "name 'resultado' is not defined",
     "output_type": "error",
     "traceback": [
      "\u001b[1;31m---------------------------------------------------------------------------\u001b[0m",
      "\u001b[1;31mNameError\u001b[0m                                 Traceback (most recent call last)",
      "Cell \u001b[1;32mIn[3], line 7\u001b[0m\n\u001b[0;32m      1\u001b[0m \u001b[38;5;66;03m# Ejemplo:\u001b[39;00m\n\u001b[0;32m      2\u001b[0m \n\u001b[0;32m      3\u001b[0m \u001b[38;5;66;03m# Solo por fine de conveniencia borramos la variable \"resultado\"\u001b[39;00m\n\u001b[0;32m      5\u001b[0m \u001b[38;5;28;01mfrom\u001b[39;00m\u001b[38;5;250m \u001b[39m\u001b[38;5;21;01mmath\u001b[39;00m\u001b[38;5;250m \u001b[39m\u001b[38;5;28;01mimport\u001b[39;00m sqrt, log10\n\u001b[1;32m----> 7\u001b[0m \u001b[38;5;28;01mdel\u001b[39;00m \u001b[43mresultado\u001b[49m\n\u001b[0;32m      9\u001b[0m \u001b[38;5;28;01mdef\u001b[39;00m\u001b[38;5;250m \u001b[39m\u001b[38;5;21msuma_log_numeros\u001b[39m(numero_1: \u001b[38;5;28mfloat\u001b[39m, numero_2: \u001b[38;5;28mfloat\u001b[39m) \u001b[38;5;241m-\u001b[39m\u001b[38;5;241m>\u001b[39m \u001b[38;5;28mfloat\u001b[39m:\n\u001b[0;32m     10\u001b[0m     resultado \u001b[38;5;241m=\u001b[39m math\u001b[38;5;241m.\u001b[39mlog10(numero_1) \u001b[38;5;241m*\u001b[39m math\u001b[38;5;241m.\u001b[39mlog10(numero_2)\n",
      "\u001b[1;31mNameError\u001b[0m: name 'resultado' is not defined"
     ]
    }
   ],
   "source": [
    "# Ejemplo:\n",
    "\n",
    "# Solo por fine de conveniencia borramos la variable \"resultado\"\n",
    "\n",
    "from math import sqrt, log10\n",
    "\n",
    "del resultado\n",
    "\n",
    "def suma_log_numeros(numero_1: float, numero_2: float) -> float:\n",
    "    resultado = math.log10(numero_1) * math.log10(numero_2)\n",
    "    print (f\"el resultado de la suma entre logaritmos da {resultado} y el logaritmo natural de {numero_1} es {math.log10(numero_1)}\")\n",
    "\n"
   ]
  },
  {
   "cell_type": "code",
   "execution_count": null,
   "metadata": {},
   "outputs": [],
   "source": [
    "# la variable \"resultado\" no es visible desde afuera de la función\n",
    "# por esta razon se obtuvieron los errores.\n",
    "print(suma_log_numeros(50, 80))\n",
    "print(resultado)"
   ]
  },
  {
   "cell_type": "code",
   "execution_count": 7,
   "metadata": {},
   "outputs": [
    {
     "name": "stdout",
     "output_type": "stream",
     "text": [
      "Hola, buenos días Anselmo\n"
     ]
    }
   ],
   "source": [
    "# Ahora haciendo uso de la función \"scope\"las variables que fueron \n",
    "# creadas desde afuera si serán visibles\n",
    "\n",
    "SALUDO= \"Hola, buenos días \"\n",
    "\n",
    "def saludar(nombre: str) -> str:\n",
    "    return SALUDO + nombre\n",
    "\n",
    "print(saludar(\"Anselmo\")) \n",
    "\n",
    "# 👀 Nota! se considera una buena práctica escribir la variable en MAYÚSCULAS\n",
    "# para indicar que es una constante"
   ]
  },
  {
   "cell_type": "markdown",
   "metadata": {},
   "source": [
    "## Docstrings 📇\n",
    "\n",
    "Los docstrings son cadenas de texto comunes que se escriben a manera de párrafos\n",
    "con el propósito de documentar las funciones que vamos realizando."
   ]
  },
  {
   "cell_type": "code",
   "execution_count": null,
   "metadata": {},
   "outputs": [],
   "source": [
    "# Su estructura general \n",
    "# def esto_es_una_funcion(argumento_1:str/float/int,.., argumento_n)-> forma_return[]\n",
    "# \"\"\"\n",
    "# esto es un ejemplo de \n",
    "# como se deben documentar\n",
    "# nuestras funciones en \n",
    "# python\n",
    "# \"\"\"\n",
    "# return___________\n",
    "#print\n",
    "\n",
    "# en caso de que no se ejecute el docstring se puede invocar así:\n",
    "\n",
    "#esto_es_una_funcion._doc_"
   ]
  },
  {
   "cell_type": "code",
   "execution_count": 8,
   "metadata": {},
   "outputs": [
    {
     "name": "stdout",
     "output_type": "stream",
     "text": [
      "\n",
      "Esta funcion convierte un texto a minúsculas y elimina espacios \n",
      "extra o innecesarios en los extremos.\n",
      "necesitas insertar:\n",
      "    texto: str, texto a limpiar.\n",
      "\n",
      "Retorna:\n",
      "    str, texto limpio.\n",
      "\n"
     ]
    }
   ],
   "source": [
    "#Ejemplo práctico:\n",
    "def limpiar_texto(texto: str) -> str:\n",
    "    \"\"\"\n",
    "    Esta funcion convierte un texto a minúsculas y elimina espacios \n",
    "    extra o innecesarios en los extremos.\n",
    "    necesitas insertar:\n",
    "        texto: str, texto a limpiar.\n",
    "    \n",
    "    Retorna:\n",
    "        str, texto limpio.\n",
    "    \"\"\"\n",
    "    return texto.strip().lower()\n",
    "\n",
    "print(limpiar_texto.__doc__)"
   ]
  },
  {
   "cell_type": "markdown",
   "metadata": {},
   "source": [
    "## Módulos/Librerías e Importaciones 📚\n",
    "\n",
    "En las librerías se almacenan funciones adicionales que nos permiten expandir el espectro de posibilidades que nos puede proporcionar Python, por ello es de vital importancia aprender a importarlas; cabe destacar que Python tiene dos tipos de librerías, aquellas que vienen instaladas por default, y aquellas que requieren instalación."
   ]
  },
  {
   "cell_type": "markdown",
   "metadata": {},
   "source": [
    "### Importación \"Total\" y \"Parcial\" de módulos/librerías\n",
    "\n",
    "En Python de acuerdo con el proyecto que estemos desarrollando podemos importar las librerías completas, es decir con todas y cada una de las funciones que almacena, o por el contrario seleccionar solo algunos de sus componentes.\n",
    "\n",
    "**👀Importante** La sbuenas prácticas sugieren que la importación simepre se haga de manera selectiva/parcial, ya que así se economizan recursos"
   ]
  },
  {
   "cell_type": "code",
   "execution_count": null,
   "metadata": {},
   "outputs": [
    {
     "data": {
      "text/plain": [
       "1.9030899869919435"
      ]
     },
     "execution_count": 9,
     "metadata": {},
     "output_type": "execute_result"
    }
   ],
   "source": [
    "# Ejemplos de importación total de librerías locales.\n",
    "\n",
    "import math\n",
    "import random\n",
    "import datetime\n",
    "import time\n",
    "import os\n",
    "import sys\n",
    "\n",
    "# Para emplearlas se recomenda la siguiente estructura:\n",
    "\n",
    "print(sys.platform)\n",
    "\n",
    "# Este print nos retorna el sistema operativo donde se \n",
    "# está ejecutando python\n"
   ]
  },
  {
   "cell_type": "code",
   "execution_count": 11,
   "metadata": {},
   "outputs": [
    {
     "name": "stdout",
     "output_type": "stream",
     "text": [
      "3.13.2 (tags/v3.13.2:4f8bb39, Feb  4 2025, 15:23:48) [MSC v.1942 64 bit (AMD64)]\n",
      "9223372036854775807\n"
     ]
    }
   ],
   "source": [
    "# Importación parcial\n",
    "from sys import version, maxsize\n",
    "\n",
    "print(version)   \n",
    "print(maxsize) \n",
    "\n",
    "# El primer print muestra la versión de Python\n",
    "# El segundo imprimen el tamaño máximo de un entero en Python"
   ]
  },
  {
   "cell_type": "markdown",
   "metadata": {},
   "source": [
    "### Importación de módulos propios"
   ]
  },
  {
   "cell_type": "markdown",
   "metadata": {},
   "source": [
    "#### **Sin Alias**\n",
    "\n",
    "No es tan práctico este método de importación pues hay algunos componentes de librerias que son demasiado largo lo que complejiza el coding\n"
   ]
  },
  {
   "cell_type": "code",
   "execution_count": null,
   "metadata": {},
   "outputs": [],
   "source": [
    "# No obstante, si prefieres importar sin hace uso de los alias \n",
    "# te recomiendo las siguientes líneas\n",
    "# de manera genérica :\n",
    "# from <carpeta>.<modulo> \n",
    "\n",
    "import src.text_mining\n",
    "\n",
    "# Poniendo todo junto queda aun más largo, lo que va en contra de la eficiencia\n",
    "# de codigo\n",
    "# <carpeta>.<modulo>.<funcion_clase>()\n",
    "\n",
    "src.text_mining.tokenizar_texto(\"hola mundo\", \" \")"
   ]
  },
  {
   "cell_type": "markdown",
   "metadata": {},
   "source": [
    "#### **Con Alias**\n",
    "\n",
    "El alias lo puede escoger cada usuario a discreción se recomienda que sea algo corto pero que haga visible alusión a la librería empleada"
   ]
  },
  {
   "cell_type": "code",
   "execution_count": null,
   "metadata": {},
   "outputs": [],
   "source": [
    "import pandas as pd\n",
    "import numpy as ny\n",
    "\n",
    "# Al emplear los alias, la próxima vez que necesitemos invocar la librería\n",
    "# en nuestro código lo haremos con pd o ny. Este procedimiento se puede \n",
    "# aplicar a cualquier librería.\n"
   ]
  }
 ],
 "metadata": {
  "kernelspec": {
   "display_name": "Python 3",
   "language": "python",
   "name": "python3"
  },
  "language_info": {
   "codemirror_mode": {
    "name": "ipython",
    "version": 3
   },
   "file_extension": ".py",
   "mimetype": "text/x-python",
   "name": "python",
   "nbconvert_exporter": "python",
   "pygments_lexer": "ipython3",
   "version": "3.13.2"
  }
 },
 "nbformat": 4,
 "nbformat_minor": 2
}
