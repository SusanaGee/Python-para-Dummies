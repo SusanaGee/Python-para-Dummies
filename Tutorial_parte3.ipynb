{
 "cells": [
  {
   "cell_type": "markdown",
   "metadata": {},
   "source": [
    "# **Parte 3**"
   ]
  },
  {
   "cell_type": "markdown",
   "metadata": {},
   "source": [
    "## Indexación y manipulación de estructuras de datos 📈"
   ]
  },
  {
   "cell_type": "markdown",
   "metadata": {},
   "source": [
    "En esta sección exploraremos, como acceder a datos dentro de estrucutras usando: índices posicionales enteros, rangos de estos índices y etiquetas en el caso de los diccionarios. Además entenderemos como podemos modificar su contenido por medio de índices."
   ]
  },
  {
   "cell_type": "markdown",
   "metadata": {},
   "source": [
    "### Acceder a la información"
   ]
  },
  {
   "cell_type": "markdown",
   "metadata": {},
   "source": [
    "#### **Posiciones individuales**"
   ]
  },
  {
   "cell_type": "code",
   "execution_count": 5,
   "metadata": {},
   "outputs": [],
   "source": [
    "# Para comprender mejor ste concepto recurriremos a ejemplos prácticos más allá de la teoría\n",
    "\n",
    "lista_info = [15, -23, 0, 77.7, -100]\n",
    "tupla_info = (-3, 6, 41, 0, 17)\n",
    "conjunto_info = {10, 0, 20, -30, 50}\n",
    "dicc_info = {'a': 133, 'b': 140, 'c': -160, 0: \"hello world\"}"
   ]
  },
  {
   "cell_type": "code",
   "execution_count": null,
   "metadata": {},
   "outputs": [
    {
     "name": "stdout",
     "output_type": "stream",
     "text": [
      "15\n",
      "-3\n"
     ]
    }
   ],
   "source": [
    "# Como se mencionó en secciones previas de este curso, las posiciones iniciales en \n",
    "# Python comienzan en 0\n",
    "\n",
    "print(lista_info[0])\n",
    "print(tupla_info[0])\n",
    "# print(conjunto_1[0]) \n",
    "\n",
    "# 👀 Al querer acceder a una posición especifica en un conjunto, obtendremos siempre un error ya\n",
    "# que estas son colecciones desorganizadas."
   ]
  },
  {
   "cell_type": "code",
   "execution_count": 3,
   "metadata": {},
   "outputs": [
    {
     "ename": "IndexError",
     "evalue": "list index out of range",
     "output_type": "error",
     "traceback": [
      "\u001b[1;31m---------------------------------------------------------------------------\u001b[0m",
      "\u001b[1;31mIndexError\u001b[0m                                Traceback (most recent call last)",
      "Cell \u001b[1;32mIn[3], line 3\u001b[0m\n\u001b[0;32m      1\u001b[0m \u001b[38;5;66;03m# 👀 Cuando se desea acceder a una posión exacta de una colección debemos de asegurnos de que esa\u001b[39;00m\n\u001b[0;32m      2\u001b[0m \u001b[38;5;66;03m#posición perdaderamente exista, de lo contrario tendremos como retorno un error \u001b[39;00m\n\u001b[1;32m----> 3\u001b[0m \u001b[38;5;28mprint\u001b[39m(\u001b[43mlista_info\u001b[49m\u001b[43m[\u001b[49m\u001b[38;5;241;43m10\u001b[39;49m\u001b[43m]\u001b[49m)\n\u001b[0;32m      4\u001b[0m \u001b[38;5;28mprint\u001b[39m(tupla_info[\u001b[38;5;241m10\u001b[39m])\n",
      "\u001b[1;31mIndexError\u001b[0m: list index out of range"
     ]
    }
   ],
   "source": [
    "# 👀 Cuando se desea acceder a una posión exacta de una colección debemos de asegurnos de que esa\n",
    "#posición perdaderamente exista, de lo contrario tendremos como retorno un error \n",
    "print(lista_info[10])\n",
    "print(tupla_info[10])"
   ]
  },
  {
   "cell_type": "code",
   "execution_count": 6,
   "metadata": {},
   "outputs": [
    {
     "name": "stdout",
     "output_type": "stream",
     "text": [
      "-100\n",
      "17\n",
      "77.7\n",
      "0\n"
     ]
    }
   ],
   "source": [
    "# En caso de querer acceder al último valor de nuestra colección, existe una manera alternativa\n",
    "# en lugar de poner el valor que le correspondería (empezando desde cero), podemos hacerlo de la \n",
    "# siguiente manera:\n",
    "\n",
    "print(lista_info[-1])\n",
    "print(tupla_info[-1])\n",
    "\n",
    "#De manera semejante para la posición ante-penúltima \n",
    "\n",
    "print(lista_info[-2])\n",
    "print(tupla_info[-2])"
   ]
  },
  {
   "cell_type": "markdown",
   "metadata": {},
   "source": [
    "##### 📌 **Importante**\n",
    "\n",
    "Los ejemplos no se están realizando, hasta ahora con diccionarios, pues como se mencionó previamente para estas colecciones se emplean estricamente las llaves para acceder a los valores que almacenan."
   ]
  },
  {
   "cell_type": "code",
   "execution_count": null,
   "metadata": {},
   "outputs": [
    {
     "name": "stdout",
     "output_type": "stream",
     "text": [
      "133\n",
      "140\n",
      "-160\n",
      "hello world\n"
     ]
    }
   ],
   "source": [
    "# Accediendo a un valor del diccionario usando las llaves.\n",
    "\n",
    "print(dicc_info['a'])\n",
    "print(dicc_info['b'])\n",
    "print(dicc_info['c'])\n",
    "print(dicc_info[0])\n",
    "\n",
    "# Como se ilustra en este caso una de las llaves es el número cero, pues los diccionarios \n",
    "# admiten números como llaves. Por ejemplo si se escribiera print(dicc_info[1]), nos arrojaría\n",
    "# un error porque no existe la llave 1."
   ]
  },
  {
   "cell_type": "markdown",
   "metadata": {},
   "source": [
    "#### **Rangos de posiciones**"
   ]
  },
  {
   "cell_type": "code",
   "execution_count": 10,
   "metadata": {},
   "outputs": [
    {
     "name": "stdout",
     "output_type": "stream",
     "text": [
      "[15, -23, 0, 77.7, -100]\n",
      "(-3, 6, 41, 0, 17)\n"
     ]
    }
   ],
   "source": [
    "# Traemos nuestra lista anterior para tenerla a mano e ir corroborando:\n",
    "\n",
    "print(lista_info)\n",
    "print(tupla_info)"
   ]
  },
  {
   "cell_type": "code",
   "execution_count": 11,
   "metadata": {},
   "outputs": [
    {
     "name": "stdout",
     "output_type": "stream",
     "text": [
      "[15, -23, 0, 77.7, -100]\n",
      "(-3, 6, 41, 0, 17)\n"
     ]
    }
   ],
   "source": [
    "# Si bien con solo escribir el nombre de la lista o tupla en una línea de código a parte \n",
    "# la podemos visualizar completa, existen maneras alternativas de imprimirla completa.\n",
    "\n",
    "print(lista_info[:])\n",
    "print(tupla_info[:])"
   ]
  },
  {
   "cell_type": "code",
   "execution_count": null,
   "metadata": {},
   "outputs": [
    {
     "name": "stdout",
     "output_type": "stream",
     "text": [
      "[15, -23, 0]\n",
      "[15, -23, 0]\n",
      "(-3, 6)\n",
      "(-3, 6)\n"
     ]
    }
   ],
   "source": [
    "# Para acceder a los primeros n elementos, se debe seguir la siguiente estructura:\n",
    "#[posición inicial: posición final pero no se incluye]\n",
    "\n",
    "print(lista_info[:3])\n",
    "print(lista_info[0:3])\n",
    "print(tupla_info[:2])\n",
    "print(tupla_info[0:2])\n"
   ]
  },
  {
   "cell_type": "code",
   "execution_count": null,
   "metadata": {},
   "outputs": [
    {
     "name": "stdout",
     "output_type": "stream",
     "text": [
      "[15, -23, 0, 77.7, -100]\n",
      "[15, -23, 0, 77.7, -100]\n",
      "[15, 0, -100]\n",
      "[-23, 77.7]\n",
      "[77.7, 0, -23, 15]\n",
      "[-100, 77.7, 0, -23, 15]\n"
     ]
    }
   ],
   "source": [
    "# Es posible que queramos acceder a una serie de valor con características mucho más específicas:\n",
    "\n",
    "lista_info\n",
    "\n",
    "# Permite acceder nuevamente a toda la lista:\n",
    "print(lista_info[::]) \n",
    "\n",
    "# Emulamos la configuración por default (0, es la posición final, \n",
    "# se coloca 5 para conseguir incluir todos lo elementos de la lista y \n",
    "# se desea que el conteo sea de 1 en 1)\n",
    "print(lista_info[0:5:1]) \n",
    "\n",
    "# Todas las posiciones pares\n",
    "print(lista_info[::2]) \n",
    "\n",
    "# Todas las posiciones impares\n",
    "print(lista_info[1::2])\n",
    "\n",
    "# Comienza en la posición 3, y en lugar de continuar el conteo hasta la última\n",
    "# posición realiza el conteo alreves\n",
    "print(lista_info[3::-1])\n",
    "\n",
    "# Retorna lista/tupla en orden inverso\n",
    "print(lista_info[::-1])\n"
   ]
  },
  {
   "cell_type": "code",
   "execution_count": null,
   "metadata": {},
   "outputs": [],
   "source": [
    "# Retorna lista/tupla en orden inverso\n",
    "# este método reversa la lista/tupla original in-situ\n",
    "lista_info.reverse()\n",
    "lista_info"
   ]
  },
  {
   "cell_type": "markdown",
   "metadata": {},
   "source": [
    "##### 📌 **Importante**\n",
    "\n",
    "Todas las operaciones aplicadas anteriormente a las listas, se pueden aplicar a las tuplas"
   ]
  },
  {
   "cell_type": "markdown",
   "metadata": {},
   "source": [
    "### Modificar la información"
   ]
  },
  {
   "cell_type": "markdown",
   "metadata": {},
   "source": [
    "#### **Forma individual**"
   ]
  },
  {
   "cell_type": "code",
   "execution_count": 18,
   "metadata": {},
   "outputs": [
    {
     "ename": "TypeError",
     "evalue": "'tuple' object does not support item assignment",
     "output_type": "error",
     "traceback": [
      "\u001b[1;31m---------------------------------------------------------------------------\u001b[0m",
      "\u001b[1;31mTypeError\u001b[0m                                 Traceback (most recent call last)",
      "Cell \u001b[1;32mIn[18], line 4\u001b[0m\n\u001b[0;32m      1\u001b[0m \u001b[38;5;66;03m# Tal y como se explicó en la parte 1 de este curso, las tuplas con inmutables de tal manera,\u001b[39;00m\n\u001b[0;32m      2\u001b[0m \u001b[38;5;66;03m# que una vez creadas no se podrán añadir o eliminar elementos.\u001b[39;00m\n\u001b[1;32m----> 4\u001b[0m \u001b[43mtupla_info\u001b[49m\u001b[43m[\u001b[49m\u001b[38;5;241;43m2\u001b[39;49m\u001b[43m]\u001b[49m \u001b[38;5;241m=\u001b[39m \u001b[38;5;241m100\u001b[39m\n",
      "\u001b[1;31mTypeError\u001b[0m: 'tuple' object does not support item assignment"
     ]
    }
   ],
   "source": [
    "# Tal y como se explicó en la parte 1 de este curso, las tuplas con inmutables de tal manera,\n",
    "# que una vez creadas no se podrán añadir o eliminar elementos.\n",
    "\n",
    "tupla_info[2] = 100"
   ]
  },
  {
   "cell_type": "code",
   "execution_count": null,
   "metadata": {},
   "outputs": [
    {
     "name": "stdout",
     "output_type": "stream",
     "text": [
      "[15, -23, 222, 77.7, -100]\n",
      "{'a': 133, 'b': 'gato negro', 'c': -160, 0: 'hello world'}\n"
     ]
    }
   ],
   "source": [
    "# Tanto las listas como los diccionarios si son mutables.\n",
    "\n",
    "# En el caso de las listas:\n",
    "\n",
    "lista_info[2] = 222\n",
    "print(lista_info)\n",
    "\n",
    "# 👀 Recordar! el número contenido dentro de [] indica a posición en la cual será insertado\n",
    "# el nuevo valor, reemplazando el que se encontraba allí previamente\n",
    "\n",
    "# En el caso de los diccionarios, se debe de usar nuevamente a clave o llave:\n",
    "\n",
    "dicc_info['b'] = \"gato negro\"\n",
    "print(dicc_info)"
   ]
  },
  {
   "cell_type": "markdown",
   "metadata": {},
   "source": [
    "#### **Rangos de posiciones**"
   ]
  },
  {
   "cell_type": "code",
   "execution_count": 23,
   "metadata": {},
   "outputs": [
    {
     "ename": "TypeError",
     "evalue": "must assign iterable to extended slice",
     "output_type": "error",
     "traceback": [
      "\u001b[1;31m---------------------------------------------------------------------------\u001b[0m",
      "\u001b[1;31mTypeError\u001b[0m                                 Traceback (most recent call last)",
      "Cell \u001b[1;32mIn[23], line 3\u001b[0m\n\u001b[0;32m      1\u001b[0m \u001b[38;5;66;03m# Por medio de rangos se pueden modificar grupos del mismo tamaño\u001b[39;00m\n\u001b[1;32m----> 3\u001b[0m \u001b[43mlista_info\u001b[49m\u001b[43m[\u001b[49m\u001b[38;5;241;43m0\u001b[39;49m\u001b[43m:\u001b[49m\u001b[38;5;241;43m1\u001b[39;49m\u001b[43m]\u001b[49m \u001b[38;5;241m=\u001b[39m \u001b[38;5;241m200\u001b[39m \n\u001b[0;32m      4\u001b[0m lista_info\n\u001b[0;32m      6\u001b[0m \u001b[38;5;66;03m# 👀 El error obtenido aquí surge porque solo pueden asignarse iterables\u001b[39;00m\n",
      "\u001b[1;31mTypeError\u001b[0m: must assign iterable to extended slice"
     ]
    }
   ],
   "source": [
    "# Por medio de rangos se pueden modificar grupos del mismo tamaño\n",
    "\n",
    "lista_info[0:1] = 200 \n",
    "lista_info\n",
    "\n",
    "# 👀 El error obtenido aquí surge porque solo pueden asignarse iterables"
   ]
  },
  {
   "cell_type": "code",
   "execution_count": 24,
   "metadata": {},
   "outputs": [
    {
     "data": {
      "text/plain": [
       "[-100, 200, 222, 77.7, -100]"
      ]
     },
     "execution_count": 24,
     "metadata": {},
     "output_type": "execute_result"
    }
   ],
   "source": [
    "# La manera correcta de modificar estos rupos es así: \n",
    "\n",
    "lista_info[0:2] = [-100, 200]\n",
    "lista_info\n",
    "\n",
    "# 👀 Aquí nuevamente no se incluye la última posición, por tanto serán alteradas \n",
    "# las posiciones 0 y 1"
   ]
  }
 ],
 "metadata": {
  "kernelspec": {
   "display_name": "Python 3",
   "language": "python",
   "name": "python3"
  },
  "language_info": {
   "codemirror_mode": {
    "name": "ipython",
    "version": 3
   },
   "file_extension": ".py",
   "mimetype": "text/x-python",
   "name": "python",
   "nbconvert_exporter": "python",
   "pygments_lexer": "ipython3",
   "version": "3.13.2"
  }
 },
 "nbformat": 4,
 "nbformat_minor": 2
}
