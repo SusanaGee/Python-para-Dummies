{
 "cells": [
  {
   "cell_type": "markdown",
   "metadata": {},
   "source": [
    "# **Parte 2**"
   ]
  },
  {
   "cell_type": "markdown",
   "metadata": {},
   "source": [
    "## Breve introducción a: Clases, Objetos, Atributos y Métodos ✏️"
   ]
  },
  {
   "cell_type": "markdown",
   "metadata": {},
   "source": [
    "Para efectos prácticos simplificaremos las definiciones de la siguient manera:\n",
    "\n",
    "* 💫 Un objeto es com un \"sustantivo\".\n",
    "\n",
    "* 💫 Sobre los objetos se pueden apicar \"métodos\" y consultar \"atributos\", se emplea un punto (.) despues del objeto para cualquiera de los dos casos.\n",
    "\n",
    "* 💫 Métodos= acciones, terminan en ()\n"
   ]
  },
  {
   "cell_type": "code",
   "execution_count": 1,
   "metadata": {},
   "outputs": [
    {
     "name": "stdout",
     "output_type": "stream",
     "text": [
      "Emma Watson\n",
      "Emma Watson\n",
      "Emma watson\n",
      "Emma Watson\n",
      "EMMA WATSON\n",
      "emma watson\n",
      "True\n",
      "True\n",
      "False\n",
      "False\n",
      "2\n",
      "EmmA WAtson\n"
     ]
    }
   ],
   "source": [
    "# Ejemplos\n",
    "\n",
    "nombre = \"Emma\"\n",
    "apellido = \" Watson\" \n",
    "nombre_completo= nombre+apellido\n",
    "print(nombre_completo)\n",
    "\n",
    "print(nombre_completo)\n",
    "print(nombre_completo.capitalize())\n",
    "print(nombre_completo.title())\n",
    "print(nombre_completo.upper())\n",
    "print(nombre_completo.lower())\n",
    "print(nombre_completo.endswith(\"n\"))\n",
    "print(nombre_completo.startswith(\"E\"))\n",
    "print(nombre_completo.isalnum())\n",
    "print(nombre_completo.isnumeric())\n",
    "print(nombre_completo.count('a'))\n",
    "print(nombre_completo.replace(\"a\", \"A\"))\n"
   ]
  },
  {
   "cell_type": "markdown",
   "metadata": {},
   "source": [
    "# Estructuras de datos 📊\n",
    "\n",
    "Python, al igual que muchos otros lenguajes de programación, tiene incorporados una serie de estructuras de datos que permiten almacenar información de diferentes maneras, y cada una de estas estructuras cuenta con características propias e inmutables."
   ]
  },
  {
   "cell_type": "markdown",
   "metadata": {},
   "source": [
    "#### **Listas** 🧾\n",
    "\n",
    "Se definen entonces como una colección ordenada y mutables de elementos."
   ]
  },
  {
   "cell_type": "code",
   "execution_count": 8,
   "metadata": {},
   "outputs": [
    {
     "name": "stdout",
     "output_type": "stream",
     "text": [
      "[10, 20, 30, 40, 50, 60] <class 'list'>\n"
     ]
    }
   ],
   "source": [
    "# Ejemplo\n",
    "\n",
    "lista_prueba = [10, 20, 30, 40, 50, 60]\n",
    "print(lista_prueba, type(lista_prueba))"
   ]
  },
  {
   "cell_type": "code",
   "execution_count": 2,
   "metadata": {},
   "outputs": [
    {
     "name": "stdout",
     "output_type": "stream",
     "text": [
      "[0, 1, 2, 3, 4, 5, 6, 7, 8, 9]\n",
      "[0, 1, 2, 3, 4, 5, 6, 7, 8, 9]\n",
      "[0, 2, 4, 6, 8]\n",
      "[1, 3, 5, 7, 9]\n"
     ]
    }
   ],
   "source": [
    "# Ejemplo\n",
    "\n",
    "# Si queremos crear un listado de números, sin escribirlos manualmente podemos emplear las\n",
    "# siguientes lineas:\n",
    "print(list(range(0, 10)))\n",
    "print(list(range(0, 10, 1)))\n",
    "print(list(range(0, 10, 2))) # secuencia de pares\n",
    "print(list(range(1, 10, 2))) # secuencia de impares"
   ]
  },
  {
   "cell_type": "code",
   "execution_count": null,
   "metadata": {},
   "outputs": [
    {
     "name": "stdout",
     "output_type": "stream",
     "text": [
      "50\n",
      "60\n",
      "10\n"
     ]
    }
   ],
   "source": [
    "# Si se desea acceder a una posición exacta de algún elemento de la lista, se procederá así:\n",
    " \n",
    "print(lista_prueba[4])\n",
    "print(lista_prueba[5])\n",
    "print(lista_prueba[0])\n",
    "\n",
    "# 👀 Tener en cuenta que en Python la primera posición es 0\n"
   ]
  },
  {
   "cell_type": "code",
   "execution_count": 10,
   "metadata": {},
   "outputs": [
    {
     "name": "stdout",
     "output_type": "stream",
     "text": [
      "[10, 20, 30, 40, 50, 60, 'perro', 'gato', 'conejo', 'hamster']\n"
     ]
    }
   ],
   "source": [
    "# Si lo que se desea es unir dos o más listas, es decir concatenarlas, \n",
    "# se sugiere emplear la siguiente línea\n",
    "\n",
    "lista_2prueba = [\"perro\", \"gato\", \"conejo\", \"hamster\"]\n",
    "nueva_lista=lista_prueba + lista_2prueba\n",
    "print(nueva_lista)"
   ]
  },
  {
   "cell_type": "code",
   "execution_count": 23,
   "metadata": {},
   "outputs": [
    {
     "data": {
      "text/plain": [
       "[]"
      ]
     },
     "execution_count": 23,
     "metadata": {},
     "output_type": "execute_result"
    }
   ],
   "source": [
    "# En python tambien se pueden cear listas vacías, así:\n",
    "\n",
    "Lista_vacia=[]\n",
    "Lista_vacia"
   ]
  },
  {
   "cell_type": "code",
   "execution_count": 24,
   "metadata": {},
   "outputs": [
    {
     "name": "stdout",
     "output_type": "stream",
     "text": [
      "10\n",
      "0\n"
     ]
    }
   ],
   "source": [
    "# Si se desea conocer la longitud de una lista, es decir, la cantidad de elementos que\n",
    "# se encuentran almacenados dentro de ella, se puede proceder así:\n",
    "\n",
    "print(len(nueva_lista))\n",
    "print(len(Lista_vacia))\n"
   ]
  },
  {
   "cell_type": "markdown",
   "metadata": {},
   "source": [
    "#### Métodos en listas"
   ]
  },
  {
   "cell_type": "code",
   "execution_count": 11,
   "metadata": {},
   "outputs": [
    {
     "data": {
      "text/plain": [
       "['perro', 'conejo', 'hamster']"
      ]
     },
     "execution_count": 11,
     "metadata": {},
     "output_type": "execute_result"
    }
   ],
   "source": [
    "#Para eliminar algún elemento de nuestra lista\n",
    "\n",
    "lista_2prueba.remove(\"gato\")\n",
    "lista_2prueba"
   ]
  },
  {
   "cell_type": "code",
   "execution_count": 12,
   "metadata": {},
   "outputs": [
    {
     "name": "stdout",
     "output_type": "stream",
     "text": [
      "[10, 20, 30, 40, 50, 60, 77]\n"
     ]
    }
   ],
   "source": [
    "#  Si se desea añadir elementos a la lista a existente, se procederá así:\n",
    "\n",
    "lista_prueba.append(77)\n",
    "print(lista_prueba)"
   ]
  },
  {
   "cell_type": "code",
   "execution_count": 14,
   "metadata": {},
   "outputs": [
    {
     "data": {
      "text/plain": [
       "['perro', 'conejo', 'caballo', 'caballo', 'hamster']"
      ]
     },
     "execution_count": 14,
     "metadata": {},
     "output_type": "execute_result"
    }
   ],
   "source": [
    "# Para añadir elementos en una posición exacta de la lista, y\n",
    "# no solo al final como se insertan por default, se puede proceder así:\n",
    "\n",
    "lista_2prueba.insert(2, \"caballo\")\n",
    "lista_2prueba\n",
    "\n",
    "#En este caso se insertó el objeto caballo a la lista_2prueba en la segunda posición.\n",
    "\n",
    "# 👀 Tener en cuenta que en Python la primera posición es 0"
   ]
  },
  {
   "cell_type": "code",
   "execution_count": null,
   "metadata": {},
   "outputs": [
    {
     "name": "stdout",
     "output_type": "stream",
     "text": [
      "Forma original: [19.8, 9.0, -7.3, -6.33]\n",
      "Forma ordenada: [-7.3, -6.33, 9.0, 19.8]\n"
     ]
    }
   ],
   "source": [
    "# Para ordenar una lista de menor a mayor, se sugiere el siguinete método:\n",
    "\n",
    "lista_3prueba = [19.8, 9.0, -7.3, -6.33]\n",
    "print(f\"Forma original: {lista_3prueba}\")\n",
    "lista_3prueba.sort()\n",
    "print(f\"Forma ordenada: {lista_3prueba}\")\n",
    "\n",
    "# El formato print(f\" texto de salida: {valor que toma}\"), se emplea para dar salidas con \n",
    "# una mejor estructura, ya que el contenido que hay el parentesis permite añadir una serie\n",
    "# ya almacenada, sin la necesidad de copiar y pegar todo el contenido de nuevo."
   ]
  },
  {
   "cell_type": "code",
   "execution_count": 16,
   "metadata": {},
   "outputs": [
    {
     "name": "stdout",
     "output_type": "stream",
     "text": [
      "Forma original:  1.234.567.891 \n",
      "Formato limpio: 1234567891\n"
     ]
    }
   ],
   "source": [
    "#Limpiar variables, en caso de que la presentación de los datos requiera un tipo especifico\n",
    "# de estructura se podrá emplear la siguiete técnia. El ejemplo que se prsenta busca eliminar\n",
    "# los puntos que contiene la variabe  que separa los números entre ellos:\n",
    "\n",
    "numero_cedula = \" 1.234.567.891 \"\n",
    "print(f\"Forma original: {numero_cedula}\")\n",
    "numero_cedula_limpio = numero_cedula.replace(\".\", \"\").strip()\n",
    "print(f\"Formato limpio: {numero_cedula_limpio}\")"
   ]
  },
  {
   "cell_type": "code",
   "execution_count": null,
   "metadata": {},
   "outputs": [],
   "source": [
    "# Para evitar que al crear una copia no se afecte el objeto original, \n",
    "# se recomiendo hacer un .copy, de tal manera que los cambios efectuados en la \n",
    "# copia no afecten la versión original.\n",
    "\n",
    "lista8=[7,-1,19]\n",
    "lista9=lista8.copy()"
   ]
  },
  {
   "cell_type": "markdown",
   "metadata": {},
   "source": [
    "#### **Tuplas** 📃\n",
    "\n",
    "Aunque en prncipio pueden verse similar a las listas, la principal diferencia radica en que las tuplas no son mutables, lo que resulta realmente útil en caso de que estemos trabajando con datos sensibles o personales y así añadi mayor seguridad."
   ]
  },
  {
   "cell_type": "code",
   "execution_count": 26,
   "metadata": {},
   "outputs": [
    {
     "data": {
      "text/plain": [
       "('hello world', 22, True)"
      ]
     },
     "execution_count": 26,
     "metadata": {},
     "output_type": "execute_result"
    }
   ],
   "source": [
    "#Ejemplo\n",
    "\n",
    "tupla_1prueba = (\"hello world\", 22, True)\n",
    "tupla_1prueba"
   ]
  },
  {
   "cell_type": "code",
   "execution_count": null,
   "metadata": {},
   "outputs": [
    {
     "data": {
      "text/plain": [
       "('hola mundo', 44, False)"
      ]
     },
     "execution_count": 27,
     "metadata": {},
     "output_type": "execute_result"
    }
   ],
   "source": [
    "#Ejemplo\n",
    "\n",
    "tupla_2prueba = (\"hola mundo\", 44, False)\n",
    "tupla_2prueba"
   ]
  },
  {
   "cell_type": "code",
   "execution_count": 28,
   "metadata": {},
   "outputs": [
    {
     "data": {
      "text/plain": [
       "('hello world', 22, True, 'hola mundo', 44, False)"
      ]
     },
     "execution_count": 28,
     "metadata": {},
     "output_type": "execute_result"
    }
   ],
   "source": [
    "# Entre las pocas operaciones que se pueden hacer con las tuplas, \n",
    "# se encuentra la concatenación\n",
    "\n",
    "tupla_3prueba = (tupla_1prueba + tupla_2prueba)\n",
    "tupla_3prueba"
   ]
  },
  {
   "cell_type": "code",
   "execution_count": 29,
   "metadata": {},
   "outputs": [
    {
     "data": {
      "text/plain": [
       "3"
      ]
     },
     "execution_count": 29,
     "metadata": {},
     "output_type": "execute_result"
    }
   ],
   "source": [
    "# En caso de tener una tupla con elementos repetidos, con el siguiente código \n",
    "# se podrán contar los elementos que están más de una vez\n",
    "\n",
    "tupla_4prueba=(0, 7, 8, 0, 4, 0)\n",
    "tupla_4prueba.count(0)\n",
    "\n",
    "#count es uno de los pocos métodos que se le pueden aplicar a las tuplas."
   ]
  },
  {
   "cell_type": "code",
   "execution_count": 30,
   "metadata": {},
   "outputs": [
    {
     "data": {
      "text/plain": [
       "6"
      ]
     },
     "execution_count": 30,
     "metadata": {},
     "output_type": "execute_result"
    }
   ],
   "source": [
    "# Al igual que en las listas, en las tuplas tambien se puede conocer su longitud \n",
    "\n",
    "len(tupla_4prueba)"
   ]
  },
  {
   "cell_type": "markdown",
   "metadata": {},
   "source": [
    "#### **Set o Conjuntos** 🗄\n",
    "\n",
    "Son colecciones desordenadas y no permiten que hayan elementos repetidos. Por este motivo, a diferecia de las listas o tuplas no se puede acceder a valor que se encuentren en una posición exacta.\n",
    "\n",
    "Adicionalmente, como se trata de conjuntos, es posible aplicar métodos propios de esta estructura, como la intersección, unión y diferencia."
   ]
  },
  {
   "cell_type": "code",
   "execution_count": 31,
   "metadata": {},
   "outputs": [
    {
     "name": "stdout",
     "output_type": "stream",
     "text": [
      "(1, 3, 5, 7, 9) <class 'tuple'>\n",
      "{1, 3, 5, 7, 9} <class 'set'>\n"
     ]
    }
   ],
   "source": [
    "#Ejemplo\n",
    "\n",
    "datos = (1, 3, 5, 7, 9)\n",
    "print(datos,type(datos))\n",
    "set_1prueba = set(datos)\n",
    "print(set_1prueba, type(set_1prueba))"
   ]
  },
  {
   "cell_type": "code",
   "execution_count": 33,
   "metadata": {},
   "outputs": [
    {
     "name": "stdout",
     "output_type": "stream",
     "text": [
      "{35, 7, 14, 21, 28}\n"
     ]
    }
   ],
   "source": [
    "#Ejemplo\n",
    "\n",
    "datos_2=(7,14,21,28,35)\n",
    "set_2prueba=set(datos_2)\n",
    "print(set_2prueba)"
   ]
  },
  {
   "cell_type": "code",
   "execution_count": 34,
   "metadata": {},
   "outputs": [
    {
     "name": "stdout",
     "output_type": "stream",
     "text": [
      "{7}\n",
      "{1, 3, 35, 5, 7, 9, 14, 21, 28}\n",
      "{1, 3, 5, 9}\n"
     ]
    }
   ],
   "source": [
    "#Operaciones entre conjuntos\n",
    "\n",
    "# Retorna solamente los elementos que se encuentran en ambos conjuntos:\n",
    "print(set_2prueba.intersection(set_1prueba))\n",
    "\n",
    "# Retorna todos los elementos de ambos conjuntos: \n",
    "print(set_1prueba.union(set_2prueba))\n",
    "\n",
    "#Retorna los elementos del set_1prueba que no estan en set_2prueba\n",
    "\n",
    "print(set_1prueba.difference(set_2prueba)) \n"
   ]
  },
  {
   "cell_type": "markdown",
   "metadata": {},
   "source": [
    "#### **Diccionarios** 📓\n",
    "\n",
    "Almacenan pares de clave-valor, es decir, para acceder a un valor del conjunto de datos será necesario ingresar la llave asociada. Contrario a las listas o tuplas, en los diccionarios no podemos acceder a valores por medio de su posición, ya que las llaves podrían tomar valores numéricos y generar confusión."
   ]
  },
  {
   "cell_type": "code",
   "execution_count": null,
   "metadata": {},
   "outputs": [
    {
     "data": {
      "text/plain": [
       "{'Nombre': 'Valentino',\n",
       " 'Apellido': 'Gonzales',\n",
       " 'Edad': '25',\n",
       " 'Carrera estudiada': 'Ing. Forestal'}"
      ]
     },
     "execution_count": 35,
     "metadata": {},
     "output_type": "execute_result"
    }
   ],
   "source": [
    "#Ejemplo\n",
    "\n",
    "profesional_1 =  {\n",
    "    \"Nombre\": \"Valentino\", \n",
    "    \"Apellido\": \"Gonzales\", \n",
    "    \"Edad\": \"25\", \n",
    "    \"Carrera estudiada\": \"Ing. Forestal\"}\n",
    "\n",
    "profesional_1"
   ]
  },
  {
   "cell_type": "code",
   "execution_count": 4,
   "metadata": {},
   "outputs": [
    {
     "data": {
      "text/plain": [
       "{'nombre': ['Anselmo', 'Aurora'],\n",
       " 'apellidos': ('Garcia', 'Valencia'),\n",
       " 'edad': [20, 19, 17],\n",
       " 'carrera_estudiada': ['Medicina', 'Derecho'],\n",
       " 'universidad': ['UNAULA']}"
      ]
     },
     "execution_count": 4,
     "metadata": {},
     "output_type": "execute_result"
    }
   ],
   "source": [
    "# Ejemplo\n",
    "\n",
    "equipo_de_trabajo = dict(\n",
    "    nombre=[\"Anselmo\", \"Aurora\"],\n",
    "    apellidos=(\"Garcia\", \"Valencia\"),\n",
    "    edad=[20,19,17],\n",
    "    carrera_estudiada= [\"Medicina\", \"Derecho\"],\n",
    "    universidad=[\"UNAULA\"]\n",
    ")\n",
    "\n",
    "equipo_de_trabajo\n",
    "\n",
    "#👀 En los dicionarios no necesariamente tiene que haber la misma cantidad \n",
    "# de elementos en cada una de las listas que lo componen\n",
    "\n"
   ]
  },
  {
   "cell_type": "code",
   "execution_count": 6,
   "metadata": {},
   "outputs": [
    {
     "name": "stdout",
     "output_type": "stream",
     "text": [
      "dict_keys(['nombre', 'apellidos', 'edad', 'carrera_estudiada', 'universidad'])\n"
     ]
    }
   ],
   "source": [
    "# Si queremos extraer solamente las llaves y no sus contenidos:\n",
    "print(equipo_de_trabajo.keys())"
   ]
  },
  {
   "cell_type": "code",
   "execution_count": 40,
   "metadata": {},
   "outputs": [
    {
     "data": {
      "text/plain": [
       "{'nombre': ['Anselmo', 'Aurora'],\n",
       " 'apellidos': ('Garcia', 'Valencia'),\n",
       " 'edad': [20, 19, 17],\n",
       " 'universidad': ['UNAULA']}"
      ]
     },
     "execution_count": 40,
     "metadata": {},
     "output_type": "execute_result"
    }
   ],
   "source": [
    "# Para prescindir de alguna de las listas que componen en el diccionario:\n",
    "\n",
    "equipo_de_trabajo.pop(\"carrera_estudiada\")\n",
    "equipo_de_trabajo\n"
   ]
  }
 ],
 "metadata": {
  "kernelspec": {
   "display_name": "Python 3",
   "language": "python",
   "name": "python3"
  },
  "language_info": {
   "codemirror_mode": {
    "name": "ipython",
    "version": 3
   },
   "file_extension": ".py",
   "mimetype": "text/x-python",
   "name": "python",
   "nbconvert_exporter": "python",
   "pygments_lexer": "ipython3",
   "version": "3.13.2"
  }
 },
 "nbformat": 4,
 "nbformat_minor": 2
}
